{
 "cells": [
  {
   "cell_type": "code",
   "execution_count": 19,
   "id": "1b21abf0",
   "metadata": {},
   "outputs": [],
   "source": [
    "import numpy as np\n",
    "from sklearn.cluster import KMeans\n",
    "from sklearn.model_selection import train_test_split\n",
    "\n",
    "MI_data = np.load('MI_data.npy')\n",
    "MI_label = np.load('MI_label.npy')\n",
    "\n",
    "Non_MI_data = np.load('Non_MI_data.npy')\n",
    "Non_MI_label = np.load('Non_MI_label.npy')"
   ]
  },
  {
   "cell_type": "code",
   "execution_count": 20,
   "id": "c8b96773",
   "metadata": {},
   "outputs": [],
   "source": [
    "#k-means seperate samples into three groups\n",
    "model = KMeans(n_clusters=3, random_state=5)\n",
    "y_pred = model.fit_predict(MI_data)"
   ]
  },
  {
   "cell_type": "code",
   "execution_count": 21,
   "id": "fffe5dee",
   "metadata": {},
   "outputs": [],
   "source": [
    "model = KMeans(n_clusters=3, random_state=2)\n",
    "y_pred_Non_MI = model.fit_predict(Non_MI_data)"
   ]
  },
  {
   "cell_type": "code",
   "execution_count": 22,
   "id": "3c5a1dcc",
   "metadata": {},
   "outputs": [],
   "source": [
    "cls1 = []\n",
    "cls1_label = []\n",
    "cls2 = []\n",
    "cls2_label = []\n",
    "cls3 = []\n",
    "cls3_label = []\n",
    "\n",
    "for i in range(len(y_pred)):\n",
    "    if y_pred[i] == 0:\n",
    "        cls1.append(MI_data[i])\n",
    "        cls1_label.append(1)\n",
    "    elif y_pred[i] == 1:\n",
    "        cls2.append(MI_data[i])\n",
    "        cls2_label.append(1)\n",
    "    elif y_pred[i] == 2:\n",
    "        cls3.append(MI_data[i])\n",
    "        cls3_label.append(1)\n"
   ]
  },
  {
   "cell_type": "code",
   "execution_count": 23,
   "id": "5d7ab21d",
   "metadata": {},
   "outputs": [],
   "source": [
    "cls1_Non_MI = []\n",
    "cls1_Non_MI_label = []\n",
    "cls2_Non_MI = []\n",
    "cls2_Non_MI_label = []\n",
    "cls3_Non_MI = []\n",
    "cls3_Non_MI_label = []\n",
    "for i in range(len(y_pred_Non_MI)):\n",
    "    if y_pred_Non_MI[i] == 0:\n",
    "        cls1_Non_MI.append(Non_MI_data[i])\n",
    "        cls1_Non_MI_label.append(0)\n",
    "    elif y_pred_Non_MI[i] == 1:\n",
    "        cls2_Non_MI.append(Non_MI_data[i])\n",
    "        cls2_Non_MI_label.append(0)\n",
    "    elif y_pred_Non_MI[i] == 2:\n",
    "        cls3_Non_MI.append(Non_MI_data[i])\n",
    "        cls3_Non_MI_label.append(0)"
   ]
  },
  {
   "cell_type": "code",
   "execution_count": 24,
   "id": "b96f9efe",
   "metadata": {},
   "outputs": [],
   "source": [
    "#select sample from each group\n",
    "#different RS leads to different prediction results \n",
    "RS = 32\n",
    "\n",
    "X_train_cls1, X_test_cls1, y_train_cls1, y_test_cls1 = train_test_split(cls1, cls1_label, test_size=0.2,random_state=RS)\n",
    "X_train_cls1, X_val_cls1, y_train_cls1, y_val_cls1 = train_test_split(X_train_cls1, y_train_cls1, test_size=0.2,random_state=RS)\n",
    "X_train_cls2, X_test_cls2, y_train_cls2, y_test_cls2 = train_test_split(cls2, cls2_label, test_size=0.2,random_state=RS)\n",
    "X_train_cls2, X_val_cls2, y_train_cls2, y_val_cls2 = train_test_split(X_train_cls2, y_train_cls2, test_size=0.2,random_state=RS)\n",
    "X_train_cls3, X_test_cls3, y_train_cls3, y_test_cls3 = train_test_split(cls3, cls3_label, test_size=0.2,random_state=RS)\n",
    "X_train_cls3, X_val_cls3, y_train_cls3, y_val_cls3 = train_test_split(X_train_cls3, y_train_cls3, test_size=0.2,random_state=RS)\n",
    "\n",
    "\n",
    "MI_train = np.vstack((X_train_cls1,X_train_cls2,X_train_cls3))\n",
    "MI_val = np.vstack((X_val_cls1,X_val_cls2,X_val_cls3))\n",
    "MI_test = np.vstack((X_test_cls1,X_test_cls2,X_test_cls3))\n",
    "y_train = np.array(y_train_cls1 + y_train_cls2 + y_train_cls3)\n",
    "y_val = np.array(y_val_cls1 + y_val_cls2 + y_val_cls3)\n",
    "y_test = np.array(y_test_cls1 + y_test_cls2 + y_test_cls3)"
   ]
  },
  {
   "cell_type": "code",
   "execution_count": 25,
   "id": "c596f262",
   "metadata": {},
   "outputs": [],
   "source": [
    "#combine each group's samples into train,validation and test dataset\n",
    "X_train_cls1_Non_MI, X_test_cls1_Non_MI, y_train_cls1_Non_MI, y_test_cls1_Non_MI = train_test_split(cls1_Non_MI, cls1_Non_MI_label, test_size=0.2,random_state=RS)\n",
    "X_train_cls1_Non_MI, X_val_cls1_Non_MI, y_train_cls1_Non_MI, y_val_cls1_Non_MI = train_test_split(X_train_cls1_Non_MI, y_train_cls1_Non_MI, test_size=0.2,random_state=RS)\n",
    "X_train_cls2_Non_MI, X_test_cls2_Non_MI, y_train_cls2_Non_MI, y_test_cls2_Non_MI = train_test_split(cls2_Non_MI, cls2_Non_MI_label, test_size=0.2,random_state=RS)\n",
    "X_train_cls2_Non_MI, X_val_cls2_Non_MI, y_train_cls2_Non_MI, y_val_cls2_Non_MI = train_test_split(X_train_cls2_Non_MI, y_train_cls2_Non_MI, test_size=0.2,random_state=RS)\n",
    "X_train_cls3_Non_MI, X_test_cls3_Non_MI, y_train_cls3_Non_MI, y_test_cls3_Non_MI = train_test_split(cls3_Non_MI, cls3_Non_MI_label, test_size=0.2,random_state=RS)\n",
    "X_train_cls3_Non_MI, X_val_cls3_Non_MI, y_train_cls3_Non_MI, y_val_cls3_Non_MI = train_test_split(X_train_cls3_Non_MI, y_train_cls3_Non_MI, test_size=0.2,random_state=RS)\n",
    "\n",
    "Non_MI_train = np.vstack((X_train_cls1_Non_MI,X_train_cls2_Non_MI,X_train_cls3_Non_MI))\n",
    "Non_MI_val = np.vstack((X_val_cls1_Non_MI,X_val_cls2_Non_MI,X_val_cls3_Non_MI))\n",
    "Non_MI_test = np.vstack((X_test_cls1_Non_MI,X_test_cls2_Non_MI,X_test_cls3_Non_MI))\n",
    "y_train_Non_MI = np.array(y_train_cls1_Non_MI + y_train_cls2_Non_MI + y_train_cls3_Non_MI)\n",
    "y_val_Non_MI = np.array(y_val_cls1_Non_MI + y_val_cls2_Non_MI + y_val_cls3_Non_MI)\n",
    "y_test_Non_MI = np.array(y_test_cls1_Non_MI + y_test_cls2_Non_MI + y_test_cls3_Non_MI)"
   ]
  },
  {
   "cell_type": "code",
   "execution_count": 26,
   "id": "ea74b600",
   "metadata": {},
   "outputs": [],
   "source": [
    "#save file\n",
    "np.save('MI_train_Kmeans.npy',MI_train)\n",
    "np.save('MI_test_Kmeans.npy',MI_test)\n",
    "np.save('MI_train_Kmeans_label.npy',y_train)\n",
    "np.save('MI_test_Kmeans_label.npy',y_test)\n",
    "np.save('MI_val_Kmeans.npy',MI_val)\n",
    "np.save('MI_val_Kmeans_label.npy',y_val)"
   ]
  },
  {
   "cell_type": "code",
   "execution_count": 27,
   "id": "bd1d3f58",
   "metadata": {},
   "outputs": [],
   "source": [
    "np.save('Non_MI_train_Kmeans.npy',Non_MI_train)\n",
    "np.save('Non_MI_test_Kmeans.npy',Non_MI_test)\n",
    "np.save('Non_MI_train_Kmeans_label.npy',y_train_Non_MI)\n",
    "np.save('Non_MI_test_Kmeans_label.npy',y_test_Non_MI)\n",
    "np.save('Non_MI_val_Kmeans.npy',Non_MI_val)\n",
    "np.save('Non_MI_val_Kmeans_label.npy',y_val_Non_MI)"
   ]
  },
  {
   "cell_type": "code",
   "execution_count": null,
   "id": "e2488539",
   "metadata": {},
   "outputs": [],
   "source": []
  }
 ],
 "metadata": {
  "kernelspec": {
   "display_name": "Python 3 (ipykernel)",
   "language": "python",
   "name": "python3"
  },
  "language_info": {
   "codemirror_mode": {
    "name": "ipython",
    "version": 3
   },
   "file_extension": ".py",
   "mimetype": "text/x-python",
   "name": "python",
   "nbconvert_exporter": "python",
   "pygments_lexer": "ipython3",
   "version": "3.7.9"
  }
 },
 "nbformat": 4,
 "nbformat_minor": 5
}

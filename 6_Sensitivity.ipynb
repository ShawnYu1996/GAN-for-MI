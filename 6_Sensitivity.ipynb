{
 "cells": [
  {
   "cell_type": "code",
   "execution_count": 1,
   "id": "68359705",
   "metadata": {},
   "outputs": [],
   "source": [
    "import torch\n",
    "import numpy as np\n",
    "import torch.nn as nn\n",
    "import matplotlib.pyplot as plt"
   ]
  },
  {
   "cell_type": "code",
   "execution_count": 2,
   "id": "e256fa5c",
   "metadata": {},
   "outputs": [],
   "source": [
    "#loading data\n",
    "Non_MI_data = np.load('Non_MI_data.npy')\n",
    "Non_MI_label = np.load('Non_MI_label.npy')\n",
    "MI_data = np.load('MI_data.npy')\n",
    "MI_label = np.load('MI_label.npy')"
   ]
  },
  {
   "cell_type": "code",
   "execution_count": 3,
   "id": "1292ada5",
   "metadata": {},
   "outputs": [],
   "source": [
    "#calculate average of Non-MI\n",
    "average_Non_MI = []\n",
    "for j in range(len(Non_MI_data[0])):\n",
    "    sum_value =0\n",
    "    for i in range(len(Non_MI_data)):\n",
    "        sum_value += Non_MI_data[i][j]\n",
    "    average_value = sum_value / len(Non_MI_data)\n",
    "    average_Non_MI.append(average_value)"
   ]
  },
  {
   "cell_type": "code",
   "execution_count": 4,
   "id": "4d2874f6",
   "metadata": {},
   "outputs": [],
   "source": [
    "#calculate average of MI\n",
    "average_MI = []\n",
    "for j in range(len(MI_data[0])):\n",
    "    sum_value =0\n",
    "    for i in range(len(MI_data)):\n",
    "        sum_value += MI_data[i][j]\n",
    "    average_value = sum_value / len(MI_data)\n",
    "    average_MI.append(average_value)"
   ]
  },
  {
   "cell_type": "code",
   "execution_count": 8,
   "id": "86d64486",
   "metadata": {},
   "outputs": [],
   "source": [
    "#model struture reloading\n",
    "class DNN(nn.Module):\n",
    "    def __init__(self):\n",
    "        super(DNN, self).__init__()\n",
    "        self.fc  = nn.Sequential(        \n",
    "            nn.Linear(382, 382//2),      \n",
    "            nn.ReLU(True),\n",
    "            nn.Linear(382//2,382//4),\n",
    "            nn.ReLU(True),\n",
    "            nn.Linear(382//4,382//8),\n",
    "        )\n",
    "        self.out = nn.Linear(382//8, 2) \n",
    "\n",
    "    def forward(self, x):\n",
    "        x = self.fc(x)\n",
    "        x = x.view(x.size(0), -1)           \n",
    "        output = self.out(x)\n",
    "        return output, x"
   ]
  },
  {
   "cell_type": "code",
   "execution_count": 31,
   "id": "7be2fb20",
   "metadata": {},
   "outputs": [
    {
     "name": "stderr",
     "output_type": "stream",
     "text": [
      "c:\\Miniconda\\lib\\site-packages\\ipykernel_launcher.py:36: UserWarning: To copy construct from a tensor, it is recommended to use sourceTensor.clone().detach() or sourceTensor.clone().detach().requires_grad_(True), rather than torch.tensor(sourceTensor).\n",
      "c:\\Miniconda\\lib\\site-packages\\ipykernel_launcher.py:45: UserWarning: To copy construct from a tensor, it is recommended to use sourceTensor.clone().detach() or sourceTensor.clone().detach().requires_grad_(True), rather than torch.tensor(sourceTensor).\n",
      "c:\\Miniconda\\lib\\site-packages\\ipykernel_launcher.py:64: UserWarning: To copy construct from a tensor, it is recommended to use sourceTensor.clone().detach() or sourceTensor.clone().detach().requires_grad_(True), rather than torch.tensor(sourceTensor).\n",
      "c:\\Miniconda\\lib\\site-packages\\ipykernel_launcher.py:74: UserWarning: To copy construct from a tensor, it is recommended to use sourceTensor.clone().detach() or sourceTensor.clone().detach().requires_grad_(True), rather than torch.tensor(sourceTensor).\n"
     ]
    }
   ],
   "source": [
    "#parameters\n",
    "EPOCH = 200\n",
    "BATCH_SIZE = 50\n",
    "TIME_STEP = 1\n",
    "INPUT_SIZE = 382\n",
    "LR = 0.001\n",
    "\n",
    "#replace each variables with average and feed into fully trained model to calculate the sensitivity changes \n",
    "sensitivity10 = []\n",
    "for num in range(5):\n",
    "    sen = []\n",
    "    Non_MI_data = np.load('Non_MI_data.npy')\n",
    "    Non_MI_label = np.load('Non_MI_label.npy')\n",
    "    MI_data = np.load('MI_data.npy')\n",
    "    MI_label = np.load('MI_label.npy')\n",
    "\n",
    "#calculate Non-MI average    \n",
    "    average_Non_MI = []\n",
    "    for j in range(len(Non_MI_data[0])):\n",
    "        sum_value =0\n",
    "        for i in range(len(Non_MI_data)):\n",
    "            sum_value += Non_MI_data[i][j]\n",
    "        \n",
    "        average_value = sum_value / len(Non_MI_data)\n",
    "        average_Non_MI.append(average_value)\n",
    "\n",
    "#calculate MI changes\n",
    "    average_MI = []\n",
    "    for j in range(len(MI_data[0])):\n",
    "        sum_value =0\n",
    "        for i in range(len(MI_data)):\n",
    "            sum_value += MI_data[i][j]\n",
    "        average_value = sum_value / len(MI_data)\n",
    "        average_MI.append(average_value)\n",
    "\n",
    "#loading model    \n",
    "    rnn = torch.load('dnnL_best_{}'.format(num)+'.pkl')\n",
    "    \n",
    "    sensitivity_Non_MI = []\n",
    "    Non_MI_data = torch.from_numpy(Non_MI_data)\n",
    "    Non_MI_data = torch.tensor(Non_MI_data, dtype=torch.float32)\n",
    "    Non_MI_data_re_standard = Non_MI_data.reshape(Non_MI_data.shape[0], TIME_STEP, INPUT_SIZE)\n",
    "    \n",
    "    Non_MI_data_out,last_layer = rnn(Non_MI_data_re_standard)\n",
    "    pred_Non_MI_standard = torch.max(Non_MI_data_out, 1)[0].data.squeeze().numpy().tolist()\n",
    "\n",
    "#calculate the Non-MI changes     \n",
    "    for i in range(len(average_Non_MI)):\n",
    "        Non_MI_data = np.load('Non_MI_data.npy')\n",
    "        Non_MI_data = torch.from_numpy(Non_MI_data)\n",
    "        Non_MI_data = torch.tensor(Non_MI_data, dtype=torch.float32)\n",
    "        \n",
    "        for j in range(len(Non_MI_data)):\n",
    "            Non_MI_data[j][i] = average_MI[i]    \n",
    "        Non_MI_data_re = Non_MI_data.reshape(Non_MI_data.shape[0], TIME_STEP, INPUT_SIZE)\n",
    "        Non_MI_data_out,last_layer = rnn(Non_MI_data_re)\n",
    "        pred_Non_MI = torch.max(Non_MI_data_out, 1)[0].data.squeeze().numpy().tolist()\n",
    "        divd_val = []\n",
    "        for b in range(len(pred_Non_MI)):\n",
    "            val = pred_Non_MI[b] - pred_Non_MI_standard[b]\n",
    "            divd_val.append(val)\n",
    "        sum_val = 0\n",
    "        \n",
    "        for a in divd_val:\n",
    "            sum_val += a\n",
    "        sensitivity_Non_MI.append(sum_val)\n",
    "    \n",
    "    sensitivity_MI = []\n",
    "    MI_data = torch.from_numpy(MI_data)\n",
    "    MI_data = torch.tensor(MI_data, dtype=torch.float32)\n",
    "    \n",
    "    MI_data_re_standard = MI_data.reshape(MI_data.shape[0], TIME_STEP, INPUT_SIZE)\n",
    "    MI_data_out,last_layer = rnn(MI_data_re_standard)\n",
    "    pred_MI_standard = torch.max(MI_data_out, 1)[0].data.squeeze().numpy().tolist()\n",
    "    \n",
    "#calculate the MI changes   \n",
    "    for i in range(len(average_MI)):\n",
    "        MI_data = np.load('MI_data.npy')\n",
    "        MI_data = torch.from_numpy(MI_data)\n",
    "        MI_data = torch.tensor(MI_data, dtype=torch.float32)\n",
    "\n",
    "        for j in range(len(MI_data)):\n",
    "            MI_data[j][i] = average_Non_MI[i]\n",
    "        \n",
    "        MI_data_re = MI_data.reshape(MI_data.shape[0], TIME_STEP, INPUT_SIZE)\n",
    "        MI_data_out,last_layer = rnn(MI_data_re)\n",
    "        pred_MI = torch.max(MI_data_out, 1)[0].data.squeeze().numpy().tolist()\n",
    "\n",
    "        divd_val = []\n",
    "        for b in range(len(pred_MI)):\n",
    "            val = pred_MI[b] - pred_MI_standard[b]\n",
    "            divd_val.append(val)\n",
    "\n",
    "        sum_val = 0\n",
    "        for a in divd_val:\n",
    "            sum_val += a\n",
    "        sensitivity_MI.append(sum_val)\n",
    "# combine MI sensitivity changes and Non-MI sensitivity changes   \n",
    "    sensitivity = []\n",
    "    for a in range(len(sensitivity_Non_MI)):\n",
    "        sensitivity.append(sensitivity_Non_MI[a] + sensitivity_MI[a])\n",
    "    \n",
    "    sensitivity10.append(sensitivity)\n",
    "    sen.append(sensitivity)"
   ]
  },
  {
   "cell_type": "code",
   "execution_count": 32,
   "id": "7ff970f7",
   "metadata": {},
   "outputs": [],
   "source": [
    "sen_numpy = np.array(sen)\n",
    "sen_numpy = np.sum(sen_numpy,axis=0)\n",
    "np.save('sensitivity_ave.npy',sen_numpy)"
   ]
  },
  {
   "cell_type": "code",
   "execution_count": 34,
   "id": "e9f18a45",
   "metadata": {},
   "outputs": [],
   "source": [
    "#Select top 20 variables\n",
    "simi=[]\n",
    "simi_l = sen_numpy.tolist()\n",
    "for i in range(20):\n",
    "    simi.append(simi_l.index(min(simi_l)))"
   ]
  },
  {
   "cell_type": "code",
   "execution_count": null,
   "id": "f3496ee2",
   "metadata": {},
   "outputs": [
    {
     "data": {
      "image/png": "[encoded data removed]",
      "text/plain": [
       "<Figure size 432x288 with 1 Axes>"
      ]
     },
     "metadata": {
      "needs_background": "light"
     },
     "output_type": "display_data"
    }
   ],
   "source": [
    "x = []\n",
    "Total_simi = sen_numpy\n",
    "for i in range(len(Total_simi)):\n",
    "    x.append(i)\n",
    "y = Total_simi\n",
    "plt.scatter(x, y,s = 10,alpha = 0.5)\n",
    "\n",
    "y2 = []\n",
    "for i in simi:\n",
    "    y2.append(Total_simi[i])\n",
    "\n",
    "plt.scatter(simi, y2, c = 'red',alpha = 0.7) \n",
    "plt.xlabel('Data position')\n",
    "plt.ylabel('Sensitivity')\n",
    "plt.savefig('Sensitivity_final.tif', dpi = 400)\n",
    "plt.show()"
   ]
  }
 ],
 "metadata": {
  "kernelspec": {
   "display_name": "Python 3 (ipykernel)",
   "language": "python",
   "name": "python3"
  },
  "language_info": {
   "codemirror_mode": {
    "name": "ipython",
    "version": 3
   },
   "file_extension": ".py",
   "mimetype": "text/x-python",
   "name": "python",
   "nbconvert_exporter": "python",
   "pygments_lexer": "ipython3",
   "version": "3.7.9"
  }
 },
 "nbformat": 4,
 "nbformat_minor": 5
}

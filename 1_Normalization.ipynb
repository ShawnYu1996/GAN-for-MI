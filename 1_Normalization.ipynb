{
 "cells": [
  {
   "cell_type": "code",
   "execution_count": 1,
   "id": "0aea7191",
   "metadata": {},
   "outputs": [],
   "source": [
    "import numpy as np\n",
    "from sklearn import preprocessing   \n",
    "\n",
    "my_matrix = np.loadtxt(open(\"data.csv\",encoding='UTF-8'),delimiter=\",\",skiprows=1)\n",
    "X, y = my_matrix[:,:-1],my_matrix[:,-1]"
   ]
  },
  {
   "cell_type": "code",
   "execution_count": 2,
   "id": "a87b4f79",
   "metadata": {},
   "outputs": [],
   "source": [
    "min_max_scaler = preprocessing.MinMaxScaler() \n",
    "X = min_max_scaler.fit_transform(X)"
   ]
  },
  {
   "cell_type": "code",
   "execution_count": 3,
   "id": "bce0d5e5",
   "metadata": {},
   "outputs": [],
   "source": [
    "MI_data = []\n",
    "Non_MI_data = []\n",
    "MI_label = []\n",
    "Non_MI_label = []\n",
    "\n",
    "for i in range(len(X)):\n",
    "    if y[i] == 1:\n",
    "        MI_data.append(X[i])\n",
    "        MI_label.append(1)\n",
    "    else:\n",
    "        Non_MI_data.append(X[i])\n",
    "        Non_MI_label.append(0)"
   ]
  },
  {
   "cell_type": "code",
   "execution_count": 4,
   "id": "e933a01f",
   "metadata": {},
   "outputs": [],
   "source": [
    "np.save('MI_data.npy',MI_data)\n",
    "np.save('MI_label.npy',MI_label)\n",
    "np.save('Non_MI_data.npy',Non_MI_data)\n",
    "np.save('Non_MI_label.npy',Non_MI_label)"
   ]
  },
  {
   "cell_type": "code",
   "execution_count": 5,
   "id": "7689dd9c",
   "metadata": {},
   "outputs": [],
   "source": [
    "S4AfterNor = np.hstack((X,y.reshape(-1,1)))\n",
    "np.savetxt('S4AfterNor.csv',S4AfterNor,delimiter=',')"
   ]
  }
 ],
 "metadata": {
  "kernelspec": {
   "display_name": "Python 3 (ipykernel)",
   "language": "python",
   "name": "python3"
  },
  "language_info": {
   "codemirror_mode": {
    "name": "ipython",
    "version": 3
   },
   "file_extension": ".py",
   "mimetype": "text/x-python",
   "name": "python",
   "nbconvert_exporter": "python",
   "pygments_lexer": "ipython3",
   "version": "3.7.9"
  }
 },
 "nbformat": 4,
 "nbformat_minor": 5
}

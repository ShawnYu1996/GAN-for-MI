{
 "cells": [
  {
   "cell_type": "code",
   "execution_count": 1,
   "metadata": {},
   "outputs": [],
   "source": [
    "import torch\n",
    "import numpy as np\n",
    "import torch.nn as nn\n",
    "from matplotlib import cm\n",
    "import matplotlib.pyplot as plt\n",
    "import torch.utils.data as Data\n",
    "from torch.autograd import Variable\n",
    "from mpl_toolkits.mplot3d import Axes3D\n",
    "from sklearn.model_selection import train_test_split"
   ]
  },
  {
   "cell_type": "code",
   "execution_count": 2,
   "metadata": {},
   "outputs": [
    {
     "name": "stderr",
     "output_type": "stream",
     "text": [
      "d:\\softwares\\python37\\lib\\site-packages\\ipykernel_launcher.py:9: UserWarning: To copy construct from a tensor, it is recommended to use sourceTensor.clone().detach() or sourceTensor.clone().detach().requires_grad_(True), rather than torch.tensor(sourceTensor).\n",
      "  if __name__ == '__main__':\n",
      "d:\\softwares\\python37\\lib\\site-packages\\ipykernel_launcher.py:10: UserWarning: To copy construct from a tensor, it is recommended to use sourceTensor.clone().detach() or sourceTensor.clone().detach().requires_grad_(True), rather than torch.tensor(sourceTensor).\n",
      "  # Remove the CWD from sys.path while we load stuff.\n",
      "d:\\softwares\\python37\\lib\\site-packages\\ipykernel_launcher.py:11: UserWarning: To copy construct from a tensor, it is recommended to use sourceTensor.clone().detach() or sourceTensor.clone().detach().requires_grad_(True), rather than torch.tensor(sourceTensor).\n",
      "  # This is added back by InteractiveShellApp.init_path()\n",
      "d:\\softwares\\python37\\lib\\site-packages\\ipykernel_launcher.py:12: UserWarning: To copy construct from a tensor, it is recommended to use sourceTensor.clone().detach() or sourceTensor.clone().detach().requires_grad_(True), rather than torch.tensor(sourceTensor).\n",
      "  if sys.path[0] == '':\n"
     ]
    }
   ],
   "source": [
    "#loading data\n",
    "my_matrix = np.loadtxt(open(\"S4AfterNor.csv\"),delimiter=\",\",skiprows=0)\n",
    "#using all data for training AE\n",
    "X, y = my_matrix[:,:-1],my_matrix[:,-1]\n",
    "X_train, X_test, y_train, y_test = train_test_split(X, y, test_size=0.1, random_state=None)\n",
    "torch_x = torch.from_numpy(X)\n",
    "torch_y = torch.from_numpy(y)\n",
    "test_x = torch.from_numpy(X_test)\n",
    "test_y = torch.from_numpy(y_test)\n",
    "y_train = torch.tensor(torch_y, dtype=torch.long)\n",
    "y_test = torch.tensor(test_y,dtype = torch.long)\n",
    "x_test = torch.tensor(test_x , dtype=torch.float32)\n",
    "x_train = torch.tensor(torch_x, dtype=torch.float32)"
   ]
  },
  {
   "cell_type": "code",
   "execution_count": 3,
   "metadata": {},
   "outputs": [],
   "source": [
    "#parameters\n",
    "LR = 0.0001\n",
    "EPOCH = 2000\n",
    "TIME_STEP = 20\n",
    "INPUT_SIZE = 60\n",
    "BATCH_SIZE = 100\n",
    "train_data = Data.TensorDataset(x_train,y_train)\n",
    "train_loader = Data.DataLoader(dataset= train_data, batch_size=BATCH_SIZE, shuffle=True,num_workers=0)\n"
   ]
  },
  {
   "cell_type": "code",
   "execution_count": 4,
   "metadata": {},
   "outputs": [],
   "source": [
    "#model design\n",
    "class AutoEncoder(nn.Module):\n",
    "    def __init__(self):\n",
    "        super(AutoEncoder, self).__init__()\n",
    "        self.encoder = nn.Sequential(\n",
    "            nn.Linear(382, 400),\n",
    "            nn.LeakyReLU(),\n",
    "            nn.Linear(400,300),\n",
    "            nn.LeakyReLU(),\n",
    "            nn.Linear(300,200),\n",
    "            nn.LeakyReLU(),\n",
    "            nn.Linear(200,100),\n",
    "            nn.LeakyReLU(),\n",
    "            nn.Linear(100,50),\n",
    "            nn.LeakyReLU(),\n",
    "            nn.Linear(50,3), \n",
    "        )\n",
    "        self.decoder = nn.Sequential(\n",
    "            nn.Linear(3, 50),\n",
    "            nn.LeakyReLU(),\n",
    "            nn.Linear(50,100),\n",
    "            nn.LeakyReLU(),\n",
    "            nn.Linear(100, 200),\n",
    "            nn.LeakyReLU(),\n",
    "            nn.Linear(200,300),\n",
    "            nn.LeakyReLU(),\n",
    "            nn.Linear(300,400),\n",
    "            nn.LeakyReLU(),\n",
    "            nn.Linear(400, 382),\n",
    "        )\n",
    "\n",
    "    def forward(self, x):\n",
    "        encoded = self.encoder(x)\n",
    "        decoded = self.decoder(encoded)\n",
    "        return encoded, decoded"
   ]
  },
  {
   "cell_type": "code",
   "execution_count": 5,
   "metadata": {},
   "outputs": [],
   "source": [
    "autoencoder =  AutoEncoder()\n",
    "loss_func = torch.nn.MSELoss()\n",
    "optimizer = torch.optim.Adam(autoencoder.parameters(), lr = LR)"
   ]
  },
  {
   "cell_type": "code",
   "execution_count": null,
   "metadata": {
    "scrolled": true
   },
   "outputs": [],
   "source": [
    "#training AE\n",
    "times = 1\n",
    "Times = []\n",
    "Loss_encoder = []\n",
    "for epoch in range(EPOCH):\n",
    "    for step, (x, y) in enumerate(train_loader):\n",
    "        b_x = Variable(x)   \n",
    "        b_y = Variable(x)   \n",
    "        b_label = Variable(y)               \n",
    "        encoded, decoded = autoencoder(b_x)\n",
    "\n",
    "        loss = loss_func(decoded, b_y)     \n",
    "        optimizer.zero_grad()              \n",
    "        loss.backward()                    \n",
    "        optimizer.step()                   \n",
    "        Loss_encoder.append(loss.data)\n",
    "        Times.append(times)\n",
    "        times += 1\n",
    "\n",
    "        if step % 100 == 0 :\n",
    "            test_encoded, test_decoded = autoencoder(x_test)\n",
    "            test_loss = loss_func(test_decoded,x_test)\n",
    "            \n"
   ]
  },
  {
   "cell_type": "code",
   "execution_count": null,
   "metadata": {},
   "outputs": [],
   "source": [
    "#loading generated data\n",
    "Non_MI_data = np.load('Non_MI_data.npy')\n",
    "Non_MI_label = np.load('Non_MI_label.npy')\n",
    "\n",
    "MI_generated_data = np.load('MI_generated_data_4500.npy')\n",
    "MI_Non_MI_label = np.load('MI_generatedl_Non_MI.npy')\n",
    "MI_data = np.load('MI_data.npy')\n",
    "MI_label = np.load('MI_label.npy')\n",
    "\n",
    "my_matrix = np.vstack((MI_generated_data[:57],MI_data))\n",
    "\n",
    "y = []\n",
    "for i in MI_Non_MI_label[:57]:\n",
    "    y.append(1)   \n",
    "for i in MI_label:\n",
    "    y.append(0)\n",
    "    \n",
    "X = my_matrix\n",
    "y = np.array(y)"
   ]
  },
  {
   "cell_type": "code",
   "execution_count": null,
   "metadata": {},
   "outputs": [],
   "source": [
    "torch_x = torch.from_numpy(X)\n",
    "torch_y = torch.from_numpy(y)\n",
    "y_test = torch.tensor(torch_y,  dtype = torch.long)\n",
    "x_test = torch.tensor(torch_x , dtype=torch.float32)\n",
    "#loading fully trained AE\n",
    "torch.save(autoencoder, 'autoencoder.pkl')"
   ]
  },
  {
   "cell_type": "code",
   "execution_count": null,
   "metadata": {},
   "outputs": [],
   "source": [
    "#feed overservational data and generated data\n",
    "view_data = Variable(x_test.type(torch.FloatTensor)/255.)\n",
    "encoded_data, _ = autoencoder(view_data)\n",
    "fig = plt.figure(1); ax = Axes3D(fig)\n",
    "X, Y, Z = encoded_data.data[:, 0].numpy(), encoded_data.data[:, 1].numpy(), encoded_data.data[:, 2].numpy()\n",
    "values = y_test.numpy()\n",
    "for x, y, z, s in zip(X, Y, Z, values):\n",
    "    c = cm.rainbow(int(255*s/2)); ax.text(x, y, z, s, backgroundcolor=c)\n",
    "ax.set_xlim(X.min(), X.max()); ax.set_ylim(Y.min(), Y.max()); ax.set_zlim(Z.min(), Z.max())\n",
    "plt.savefig(\"encoded_S4.tif\",dpi = 400)\n",
    "plt.show()"
   ]
  }
 ],
 "metadata": {
  "kernelspec": {
   "display_name": "Python 3 (ipykernel)",
   "language": "python",
   "name": "python3"
  },
  "language_info": {
   "codemirror_mode": {
    "name": "ipython",
    "version": 3
   },
   "file_extension": ".py",
   "mimetype": "text/x-python",
   "name": "python",
   "nbconvert_exporter": "python",
   "pygments_lexer": "ipython3",
   "version": "3.7.9"
  }
 },
 "nbformat": 4,
 "nbformat_minor": 4
}
